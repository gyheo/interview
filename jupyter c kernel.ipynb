{
 "cells": [
  {
   "cell_type": "markdown",
   "metadata": {},
   "source": [
    "# jupyter c kernel"
   ]
  },
  {
   "cell_type": "code",
   "execution_count": 1,
   "metadata": {},
   "outputs": [
    {
     "name": "stdout",
     "output_type": "stream",
     "text": [
      "Hello World in the JUPYTER! \n"
     ]
    }
   ],
   "source": [
    "#include <stdio.h>\n",
    "/*\n",
    "    C language on the JUPYTER\n",
    "    It is awesome!\n",
    "    But, I think cmd is more comfortable for C\n",
    "*/\n",
    "int main(void){\n",
    "    printf(\"Hello World in the JUPYTER! \\n\");\n",
    "}"
   ]
  }
 ],
 "metadata": {
  "kernelspec": {
   "display_name": "C",
   "language": "c",
   "name": "c"
  },
  "language_info": {
   "file_extension": ".c",
   "mimetype": "text/plain",
   "name": "c"
  }
 },
 "nbformat": 4,
 "nbformat_minor": 2
}
